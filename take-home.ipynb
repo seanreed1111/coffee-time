{
 "cells": [
  {
   "cell_type": "code",
   "execution_count": 2,
   "metadata": {},
   "outputs": [],
   "source": [
    "import pandas as pd\n",
    "import numpy as np\n",
    "from enum import Enum\n",
    "from collections import defaultdict"
   ]
  },
  {
   "cell_type": "code",
   "execution_count": 3,
   "metadata": {},
   "outputs": [],
   "source": [
    "DrinkSize = Enum(\"DrinkSize\", \"SHORT TALL GRANDE\")\n",
    "MerchSize = Enum(\"MerchSize\", \"SMALL MEDIUM LARGE\")\n",
    "Season = Enum(\"Season\", \"SPRING SUMMER FALL WINTER\")\n",
    "PlainCoffeeProducts = Enum(\n",
    "    \"PlainCoffeeProducts\",\n",
    "    [\n",
    "        \"espresso_hot\",\n",
    "        \"cappuccino_hot\",\n",
    "        \"latte_hot\",\n",
    "        \"coffee_hot\",\n",
    "        \"cappuccino_iced\",\n",
    "        \"latte_iced\",\n",
    "        \"coffee_iced\",\n",
    "    ],\n",
    ")\n",
    "SpecialtyCoffeeProducts = Enum(\n",
    "    \"SpecialtyCoffeeProducts\",\n",
    "    [\n",
    "        \"carmel_cappuccino_hot\",\n",
    "        \"mocha_cappuccino_hot\",\n",
    "        \"white_chocolate_cappuccino_hot\",\n",
    "        \"carmel_cappuccino_iced\",\n",
    "        \"mocha_cappuccino_iced\",\n",
    "        \"white_chocolate_cappuccino_iced\",\n",
    "    ],\n",
    ")"
   ]
  },
  {
   "cell_type": "code",
   "execution_count": 9,
   "metadata": {},
   "outputs": [
    {
     "data": {
      "text/plain": [
       "([<SpecialtyCoffeeProducts.carmel_cappuccino_hot: 1>,\n",
       "  <SpecialtyCoffeeProducts.mocha_cappuccino_hot: 2>,\n",
       "  <SpecialtyCoffeeProducts.white_chocolate_cappuccino_hot: 3>,\n",
       "  <SpecialtyCoffeeProducts.carmel_cappuccino_iced: 4>,\n",
       "  <SpecialtyCoffeeProducts.mocha_cappuccino_iced: 5>,\n",
       "  <SpecialtyCoffeeProducts.white_chocolate_cappuccino_iced: 6>],\n",
       " [<PlainCoffeeProducts.espresso_hot: 1>,\n",
       "  <PlainCoffeeProducts.cappuccino_hot: 2>,\n",
       "  <PlainCoffeeProducts.latte_hot: 3>,\n",
       "  <PlainCoffeeProducts.coffee_hot: 4>,\n",
       "  <PlainCoffeeProducts.cappuccino_iced: 5>,\n",
       "  <PlainCoffeeProducts.latte_iced: 6>,\n",
       "  <PlainCoffeeProducts.coffee_iced: 7>])"
      ]
     },
     "execution_count": 9,
     "metadata": {},
     "output_type": "execute_result"
    }
   ],
   "source": [
    "list(SpecialtyCoffeeProducts), list(PlainCoffeeProducts)"
   ]
  },
  {
   "cell_type": "code",
   "execution_count": 8,
   "metadata": {},
   "outputs": [
    {
     "data": {
      "text/plain": [
       "([<DrinkSize.SHORT: 1>, <DrinkSize.TALL: 2>, <DrinkSize.GRANDE: 3>],\n",
       " [<MerchSize.SMALL: 1>, <MerchSize.MEDIUM: 2>, <MerchSize.LARGE: 3>],\n",
       " [<Season.SPRING: 1>,\n",
       "  <Season.SUMMER: 2>,\n",
       "  <Season.FALL: 3>,\n",
       "  <Season.WINTER: 4>])"
      ]
     },
     "execution_count": 8,
     "metadata": {},
     "output_type": "execute_result"
    }
   ],
   "source": [
    "list(DrinkSize),list(MerchSize), list(Season)"
   ]
  },
  {
   "cell_type": "code",
   "execution_count": 10,
   "metadata": {},
   "outputs": [],
   "source": [
    "rng = np.random.default_rng(42_000_000_000_000_000)"
   ]
  },
  {
   "cell_type": "markdown",
   "metadata": {},
   "source": [
    "Tasks\n",
    "\n"
   ]
  },
  {
   "cell_type": "code",
   "execution_count": 14,
   "metadata": {},
   "outputs": [],
   "source": [
    "#setup\n",
    "n_stores = 6\n",
    "n_customers = 3\n",
    "n_days = 5\n",
    "customer_ids = list(range(1,n_customers + 1))\n",
    "genders  = rng.choice([0,1], size=n_customers) #0 male 1 female\n",
    "ages = rng.integers(low=15, high=70, size=n_customers)\n",
    "store_ids = list(range(1,n_stores + 1))\n",
    "max_num_preferred_stores = 3 #each customer can have 1,2, or 3 stores they frequent\n",
    "preferred_stores = rng.choice(store_ids, size=(n_customers,max_num_preferred_stores)) "
   ]
  },
  {
   "cell_type": "code",
   "execution_count": 15,
   "metadata": {},
   "outputs": [],
   "source": [
    "p_coffee_transaction = rng.beta(a=4,b=20,size=n_customers) #probability per day of buying coffee\n",
    "p_merch_transaction = rng.beta(a=4,b=80,size=n_customers) ##probability per day of buying merch\n",
    "p_plain_coffee_preferred = rng.beta(a=20,b=20,size=n_customers) #probability the customer prefers plain coffee (over fancier drinks)\n"
   ]
  },
  {
   "cell_type": "code",
   "execution_count": 34,
   "metadata": {},
   "outputs": [],
   "source": [
    "cust_data = {\"age\":ages, \"gender\":genders, \n",
    "\"p_coffee_transaction\":p_coffee_transaction,\n",
    "\"p_merch_transaction\":p_merch_transaction,\n",
    "\"p_plain_coffee_preferred\":p_plain_coffee_preferred,\n",
    "\"p_specialty_coffee_preferred\": 1-p_plain_coffee_preferred\n",
    "}\n",
    "df = pd.concat(\n",
    "    [pd.DataFrame(data=cust_data, index=customer_ids),\n",
    "    pd.DataFrame(preferred_stores, index=customer_ids, columns=[\"store1\", \"store2\", \"store3\"])\n",
    "    ],\n",
    "    axis=1\n",
    ")\n",
    "stores = (pd.DataFrame(preferred_stores, index=customer_ids, columns=[\"store1\", \"store2\", \"store3\"])\n",
    "        .apply(lambda row: [row[\"store1\"], row[\"store2\"], row[\"store3\"]], axis=1)\n",
    ")\n",
    "stores = pd.DataFrame(stores, index=customer_ids, columns=[\"stores\"])\n",
    "df = pd.concat([df,stores], axis=1).drop([\"store1\",\"store2\", \"store3\"], axis=1)"
   ]
  },
  {
   "cell_type": "code",
   "execution_count": 35,
   "metadata": {},
   "outputs": [
    {
     "data": {
      "text/html": [
       "<div>\n",
       "<style scoped>\n",
       "    .dataframe tbody tr th:only-of-type {\n",
       "        vertical-align: middle;\n",
       "    }\n",
       "\n",
       "    .dataframe tbody tr th {\n",
       "        vertical-align: top;\n",
       "    }\n",
       "\n",
       "    .dataframe thead th {\n",
       "        text-align: right;\n",
       "    }\n",
       "</style>\n",
       "<table border=\"1\" class=\"dataframe\">\n",
       "  <thead>\n",
       "    <tr style=\"text-align: right;\">\n",
       "      <th></th>\n",
       "      <th>age</th>\n",
       "      <th>gender</th>\n",
       "      <th>p_coffee_transaction</th>\n",
       "      <th>p_merch_transaction</th>\n",
       "      <th>p_plain_coffee_preferred</th>\n",
       "      <th>p_specialty_coffee_preferred</th>\n",
       "      <th>stores</th>\n",
       "    </tr>\n",
       "  </thead>\n",
       "  <tbody>\n",
       "    <tr>\n",
       "      <th>1</th>\n",
       "      <td>47</td>\n",
       "      <td>0</td>\n",
       "      <td>0.054303</td>\n",
       "      <td>0.035531</td>\n",
       "      <td>0.525136</td>\n",
       "      <td>0.474864</td>\n",
       "      <td>[2, 6, 2]</td>\n",
       "    </tr>\n",
       "    <tr>\n",
       "      <th>2</th>\n",
       "      <td>16</td>\n",
       "      <td>1</td>\n",
       "      <td>0.164612</td>\n",
       "      <td>0.031869</td>\n",
       "      <td>0.580677</td>\n",
       "      <td>0.419323</td>\n",
       "      <td>[4, 6, 3]</td>\n",
       "    </tr>\n",
       "    <tr>\n",
       "      <th>3</th>\n",
       "      <td>27</td>\n",
       "      <td>1</td>\n",
       "      <td>0.075373</td>\n",
       "      <td>0.044417</td>\n",
       "      <td>0.411531</td>\n",
       "      <td>0.588469</td>\n",
       "      <td>[6, 6, 1]</td>\n",
       "    </tr>\n",
       "  </tbody>\n",
       "</table>\n",
       "</div>"
      ],
      "text/plain": [
       "   age  gender  p_coffee_transaction  p_merch_transaction  \\\n",
       "1   47       0              0.054303             0.035531   \n",
       "2   16       1              0.164612             0.031869   \n",
       "3   27       1              0.075373             0.044417   \n",
       "\n",
       "   p_plain_coffee_preferred  p_specialty_coffee_preferred     stores  \n",
       "1                  0.525136                      0.474864  [2, 6, 2]  \n",
       "2                  0.580677                      0.419323  [4, 6, 3]  \n",
       "3                  0.411531                      0.588469  [6, 6, 1]  "
      ]
     },
     "execution_count": 35,
     "metadata": {},
     "output_type": "execute_result"
    }
   ],
   "source": [
    "df"
   ]
  },
  {
   "cell_type": "code",
   "execution_count": null,
   "metadata": {},
   "outputs": [],
   "source": []
  },
  {
   "cell_type": "code",
   "execution_count": null,
   "metadata": {},
   "outputs": [],
   "source": []
  },
  {
   "cell_type": "code",
   "execution_count": null,
   "metadata": {},
   "outputs": [],
   "source": [
    "# assign 1-5 store numbers to each customer with probability distribution\n",
    "# assign gender, age, or 999 to each customer\n",
    "# assign regular or specialty coffee probability to each customer with probability distribution\n",
    "\n",
    "# assign probability of food purchase to each customer with each transaction they make\n",
    "# specialty purchasers buy more food than regular coffee people\n",
    "# assign probability of merch to each customer with each transaction they make\n",
    "\n",
    "#############################################333\n",
    "# FACTS\n",
    "# specialty purchasers buy more merch than regular coffee people\n",
    "# merch must be bought same day as food or drink\n",
    "\n",
    "# start with transaction date\n",
    "# customers either purchase or not on that date\n",
    "# customers who purchased in the past are either alive or dead on that date\n",
    "# pick some percentage of customer numbers from alive customers\n",
    "# pick store number (each customer number has 2,3, or 4 different store ids )\n",
    "# pick three stores from store list w/o replacement and save in defaultdict\n",
    "# store number is a defaultdict(list) where list is their potential store ids\n",
    "# pick season (Spring Summer Fall Winter)\n",
    "# pick DOW (Weekday Weekend)\n",
    "# pick date\n",
    "# plain or specialty coffee product (each customer prefers plain or specialty but can choose both)\n",
    "# product id\n",
    "# number of units 1,2,3 each customer usually buys 1 but can buy more [0.55, 0.35, 0.10]\n",
    "# drink size SML\n"
   ]
  },
  {
   "cell_type": "code",
   "execution_count": 1,
   "metadata": {},
   "outputs": [
    {
     "name": "stdout",
     "output_type": "stream",
     "text": [
      "hello\n"
     ]
    }
   ],
   "source": [
    "'''\n",
    "for every drink\n",
    "for every size\n",
    "for every season\n",
    "there is a price\n",
    "\n",
    "price[drink][size][season]\n",
    "'''\n",
    "\n",
    "# df = pd.read_excel(\"prices.xlsx\", header=1)\n",
    "# print(df)\n",
    "# print(df.info())\n",
    "\n",
    "# use this as a separate test for unpacking dicts with enums\n",
    "# price = defaultdict(dict)\n",
    "# i = 0\n",
    "# for product in list(PlainCoffeeProducts):\n",
    "#     price[product] = defaultdict(dict)\n",
    "#     for size in list(DrinkSize):\n",
    "#         price[product][size] = defaultdict(dict)\n",
    "#         for season in list(Season):\n",
    "#             price[product][size][season] = i^2\n",
    "#             i = i + 1\n",
    "\n",
    "\n",
    "\n",
    "\n",
    "rng.choice(list(DrinkSize))"
   ]
  },
  {
   "cell_type": "code",
   "execution_count": null,
   "metadata": {},
   "outputs": [],
   "source": []
  }
 ],
 "metadata": {
  "kernelspec": {
   "display_name": "venv",
   "language": "python",
   "name": "python3"
  },
  "language_info": {
   "codemirror_mode": {
    "name": "ipython",
    "version": 3
   },
   "file_extension": ".py",
   "mimetype": "text/x-python",
   "name": "python",
   "nbconvert_exporter": "python",
   "pygments_lexer": "ipython3",
   "version": "3.10.12"
  },
  "orig_nbformat": 4
 },
 "nbformat": 4,
 "nbformat_minor": 2
}
