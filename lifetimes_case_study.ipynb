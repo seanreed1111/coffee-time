{
  "cells": [
    {
      "cell_type": "markdown",
      "metadata": {
        "id": "uQ_ekkvC9qbT"
      },
      "source": [
        "source: https://github.com/ColtAllen/marketing-case-study/blob/main/case-study.ipynb"
      ]
    },
    {
      "cell_type": "code",
      "execution_count": null,
      "metadata": {
        "id": "5iUFJkX69wlM"
      },
      "outputs": [],
      "source": [
        "%pip install -qqq lifetimes pandas==1.5.3"
      ]
    },
    {
      "cell_type": "code",
      "execution_count": null,
      "metadata": {
        "id": "HXqIEoSX9pLQ"
      },
      "outputs": [],
      "source": [
        "from lifetimes.generate_data import beta_geometric_nbd_model_transactional_data\n",
        "import numpy as np\n",
        "import pandas as pd\n",
        "from typing import Optional\n",
        "from datetime import date"
      ]
    },
    {
      "cell_type": "code",
      "execution_count": null,
      "metadata": {},
      "outputs": [],
      "source": [
        "date.today()"
      ]
    },
    {
      "cell_type": "markdown",
      "metadata": {
        "id": "KES2kXgj9pLV"
      },
      "source": [
        "### Generate Synthetic Data"
      ]
    },
    {
      "cell_type": "code",
      "execution_count": null,
      "metadata": {
        "colab": {
          "base_uri": "https://localhost:8080/",
          "height": 423
        },
        "id": "7SzdgAkdNbF2",
        "outputId": "4fb350fe-c852-4f68-d3c4-72afe0682da6"
      },
      "outputs": [],
      "source": [
        "def generate_transaction_data(\n",
        "    n_customers: int = 3,\n",
        "    observation_period_end=None,\n",
        "    observation_num_periods: int = 5,\n",
        "    seed: int = 300,\n",
        "    params: Optional[dict] = None\n",
        ") -> pd.DataFrame:\n",
        "    np.random.seed(seed)\n",
        "    if not observation_period_end:\n",
        "        observation_period_end = date.today()\n",
        "    # note a,b describe the Beta distribution of the dropout probability p(i.e., prob that customer stops buying forever)\n",
        "    #### a/b ~ 1 implies mean dropout probability ~ 50%\n",
        "    #### a/b << 1 implies mean dropout probability closer to 0%\n",
        "    #### a/b >> 1 implies mean dropout probability closer to 100%\n",
        "\n",
        "    # note alpha,r describe the Gamma distribution of the mean time between transactions lambda\n",
        "    if not params:  # use cdnow default distribution\n",
        "        params = {\"a\": 0.79, \"alpha\": 4.41, \"b\": 2.43, \"r\": 0.24}\n",
        "\n",
        "    all_customers = [beta_geometric_nbd_model_transactional_data(T=np.random.randint(1,observation_num_periods), \n",
        "                                                                observation_period_end=observation_period_end, \n",
        "                                                                freq=\"D\", size=1, **params) \n",
        "                    for i in np.arange(n_customers)\n",
        "                    ]\n",
        "    # assign customer ids\n",
        "    for i in zip(all_customers, np.arange(n_customers)):\n",
        "        i[0][\"customer_id\"] = i[1]\n",
        "\n",
        "    return pd.concat(all_customers).reset_index().drop(\"index\", axis=1)"
      ]
    },
    {
      "cell_type": "code",
      "execution_count": null,
      "metadata": {
        "id": "6jFTl-anPfsD"
      },
      "outputs": [],
      "source": [
        "params = {\"a\": 10, \"alpha\": 5, \"b\": 5, \"r\": 5}\n",
        "generate_transaction_data(observation_num_periods=30, params=params)"
      ]
    },
    {
      "cell_type": "code",
      "execution_count": null,
      "metadata": {},
      "outputs": [],
      "source": []
    }
  ],
  "metadata": {
    "colab": {
      "provenance": []
    },
    "kernelspec": {
      "display_name": "Python 3 (ipykernel)",
      "language": "python",
      "name": "python3"
    },
    "language_info": {
      "codemirror_mode": {
        "name": "ipython",
        "version": 3
      },
      "file_extension": ".py",
      "mimetype": "text/x-python",
      "name": "python",
      "nbconvert_exporter": "python",
      "pygments_lexer": "ipython3",
      "version": "3.10.12"
    }
  },
  "nbformat": 4,
  "nbformat_minor": 0
}
