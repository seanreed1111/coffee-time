{
 "cells": [
  {
   "cell_type": "code",
   "execution_count": null,
   "metadata": {},
   "outputs": [],
   "source": [
    "import pandas as pd\n",
    "import numpy as np\n",
    "from enum import Enum\n",
    "from collections import defaultdict\n",
    "from utils import generate_transaction_data"
   ]
  },
  {
   "cell_type": "code",
   "execution_count": null,
   "metadata": {},
   "outputs": [],
   "source": [
    "DrinkSize = Enum(\"DrinkSize\", \"SHORT TALL GRANDE\")\n",
    "Merch = Enum(\"Merch\", \"SHIRT HAT SWEATPANTS\")\n",
    "Season = Enum(\"Season\", \"SPRING SUMMER FALL WINTER\")\n",
    "PlainCoffeeProducts = Enum(\n",
    "    \"PlainCoffeeProducts\",\n",
    "    [\n",
    "        \"espresso_hot\",\n",
    "        \"cappuccino_hot\",\n",
    "        \"latte_hot\",\n",
    "        \"coffee_hot\",\n",
    "        \"cappuccino_iced\",\n",
    "        \"latte_iced\",\n",
    "        \"coffee_iced\",\n",
    "    ],\n",
    ")\n",
    "SpecialtyCoffeeProducts = Enum(\n",
    "    \"SpecialtyCoffeeProducts\",\n",
    "    [\n",
    "        \"carmel_cappuccino_hot\",\n",
    "        \"mocha_cappuccino_hot\",\n",
    "        \"white_chocolate_cappuccino_hot\",\n",
    "        \"carmel_cappuccino_iced\",\n",
    "        \"mocha_cappuccino_iced\",\n",
    "        \"white_chocolate_cappuccino_iced\",\n",
    "    ],\n",
    ")"
   ]
  },
  {
   "cell_type": "code",
   "execution_count": null,
   "metadata": {},
   "outputs": [],
   "source": [
    "list(SpecialtyCoffeeProducts), list(PlainCoffeeProducts)"
   ]
  },
  {
   "cell_type": "code",
   "execution_count": null,
   "metadata": {},
   "outputs": [],
   "source": [
    "list(DrinkSize),list(Merch), list(Season)"
   ]
  },
  {
   "cell_type": "code",
   "execution_count": null,
   "metadata": {},
   "outputs": [],
   "source": [
    "rng = np.random.default_rng(42_000_000_000_000_000)"
   ]
  },
  {
   "cell_type": "markdown",
   "metadata": {},
   "source": [
    "Tasks\n",
    "\n"
   ]
  },
  {
   "cell_type": "code",
   "execution_count": null,
   "metadata": {},
   "outputs": [],
   "source": [
    "#setup\n",
    "n_stores = 100\n",
    "n_customers = 1000\n",
    "n_days = 100\n",
    "customer_ids = list(range(n_customers))\n",
    "genders  = rng.choice([0,1], size=n_customers) #0 male 1 female\n",
    "ages = rng.integers(low=15, high=70, size=n_customers)\n",
    "store_ids = list(range(n_stores))\n",
    "max_num_preferred_stores = 3 #each customer can have 1,2, or 3 stores they frequent\n",
    "preferred_stores = rng.choice(store_ids, size=(n_customers,max_num_preferred_stores)) "
   ]
  },
  {
   "cell_type": "code",
   "execution_count": null,
   "metadata": {},
   "outputs": [],
   "source": [
    "p_coffee_transaction = rng.beta(a=4,b=20,size=n_customers) #probability per day of buying coffee\n",
    "p_merch_transaction = rng.beta(a=4,b=80,size=n_customers) ##probability per day of buying merch\n",
    "p_plain_coffee_preferred = rng.beta(a=20,b=20,size=n_customers) #probability the customer prefers plain coffee (over fancier drinks)"
   ]
  },
  {
   "cell_type": "markdown",
   "metadata": {},
   "source": [
    "Notes from Scott\n",
    "- do two years of data to put in seasonality and let it be viewed by the candidate to have some sort of seasonal trends.\n",
    "- make customer purchases seasonal\n",
    "- have some customers drop off, others join, so can see cohorts\n",
    "- adjust customer join dates to make sure there there are joiners and people who have dropped off\n",
    "- cogs so we can understand the profitability of each store (margin off of the retail price)\n",
    "- specialty drink have high margin\n",
    "- let them do cohort analysis and/or customer LTV"
   ]
  },
  {
   "cell_type": "code",
   "execution_count": null,
   "metadata": {},
   "outputs": [],
   "source": [
    "cust_data = {\"age\":ages, \"gender\":genders, \n",
    "\"p_coffee_transaction\":p_coffee_transaction,\n",
    "\"p_merch_transaction\":p_merch_transaction,\n",
    "\"p_plain_coffee_preferred\":p_plain_coffee_preferred,\n",
    "\"p_specialty_coffee_preferred\": 1-p_plain_coffee_preferred\n",
    "}\n",
    "df = pd.concat(\n",
    "    [pd.DataFrame(data=cust_data, index=customer_ids),\n",
    "    pd.DataFrame(preferred_stores, index=customer_ids, columns=[\"store1\", \"store2\", \"store3\"])\n",
    "    ],\n",
    "    axis=1\n",
    ")\n",
    "stores = (pd.DataFrame(preferred_stores, index=customer_ids, columns=[\"store1\", \"store2\", \"store3\"])\n",
    "        .apply(lambda row: [row[\"store1\"], row[\"store2\"], row[\"store3\"]], axis=1)\n",
    ")\n",
    "stores = pd.DataFrame(stores, index=customer_ids, columns=[\"stores\"])\n",
    "df = pd.concat([df,stores], axis=1).drop([\"store1\",\"store2\", \"store3\"], axis=1)"
   ]
  },
  {
   "cell_type": "code",
   "execution_count": null,
   "metadata": {},
   "outputs": [],
   "source": [
    "df"
   ]
  },
  {
   "cell_type": "code",
   "execution_count": null,
   "metadata": {},
   "outputs": [],
   "source": [
    "df[\"stores\"]"
   ]
  },
  {
   "cell_type": "code",
   "execution_count": null,
   "metadata": {},
   "outputs": [],
   "source": [
    "# Make a date series\n",
    "# Define the start and end dates\n",
    "start_date = pd.to_datetime('2023-01-01')\n",
    "end_date = start_date + pd.Timedelta(days=n_days)\n",
    "date_series = pd.date_range(start=start_date, end=end_date, freq='D')\n",
    "dates = pd.DataFrame(date_series, index=date_series, columns=['Date'])\n",
    "\n",
    "# Display the DataFrame\n",
    "print(dates)"
   ]
  },
  {
   "cell_type": "code",
   "execution_count": null,
   "metadata": {},
   "outputs": [],
   "source": [
    "p_coffee = df[\"p_coffee_transaction\"].to_list()\n",
    "p_merch = df[\"p_merch_transaction\"].to_list()\n",
    "p_plain_coffee = df[\"p_plain_coffee_preferred\"].to_list()\n",
    "transaction_dates = dates[\"Date\"].to_list();transaction_dates"
   ]
  },
  {
   "cell_type": "code",
   "execution_count": null,
   "metadata": {},
   "outputs": [],
   "source": [
    "\n",
    "# for each date, \n",
    "# look at each customer \n",
    "# randomly decide if they purchased that day or not\n",
    "# pick a random number on 0,1, \n",
    "# if number is less than p_coffee_transaction then purchased=1 else 0\n",
    "# pick another random number on 0,1, \n",
    "# if number is less than p_merch_transaction then purchased=1 else 0\n",
    "#compute coffee and merch purchases\n",
    "\n",
    "result_coffee, result_merch = [], []\n",
    "for date in transaction_dates:\n",
    "    for cust_id, p_customer_buys_coffee in enumerate(p_coffee):\n",
    "        purchased = int(rng.uniform() <= p_customer_buys_coffee)\n",
    "        if purchased:\n",
    "            result_coffee.append((date,cust_id,purchased))\n",
    "\n",
    "    for cust_id, p_customer_buys_merch in enumerate(p_merch):\n",
    "        purchased = int(rng.uniform() <= p_customer_buys_merch)\n",
    "        if purchased:\n",
    "            result_merch.append((date,cust_id,purchased))\n",
    "    \n",
    "result_coffee, result_merch\n",
    "\n",
    "\n"
   ]
  },
  {
   "cell_type": "code",
   "execution_count": null,
   "metadata": {},
   "outputs": [],
   "source": [
    "# if purchased, need to figure out what kind of coffee and/or merch purchased\n",
    "\n",
    "\n",
    "result_coffee, result_merch = [], []\n",
    "for date in transaction_dates:\n",
    "    for cust_id, p_customer_buys_coffee in enumerate(p_coffee):\n",
    "        purchased = int(rng.uniform() <= p_customer_buys_coffee)\n",
    "        if purchased:\n",
    "            p_plain = p_plain_coffee[cust_id]\n",
    "            item = rng.choice(PlainCoffeeProducts) if rng.uniform() <  p_plain else rng.choice(SpecialtyCoffeeProducts)\n",
    "            result_coffee.append((date,cust_id,item))\n",
    "\n",
    "    for cust_id, p_customer_buys_merch in enumerate(p_merch):\n",
    "        purchased = int(rng.uniform() <= p_customer_buys_merch)\n",
    "        if purchased:\n",
    "            item = rng.choice(Merch)\n",
    "            result_coffee.append((date,cust_id,item))\n",
    "    \n",
    "result_coffee, result_merch"
   ]
  },
  {
   "cell_type": "code",
   "execution_count": null,
   "metadata": {},
   "outputs": [],
   "source": [
    "# need to figure out how many units are purchased rng.choice([1,2,3])\n",
    "\n",
    "\n",
    "result_coffee, result_merch = [], []\n",
    "for date in transaction_dates:\n",
    "    for cust_id, p_customer_buys_coffee in enumerate(p_coffee):\n",
    "        purchased = int(rng.uniform() <= p_customer_buys_coffee)\n",
    "        if purchased:\n",
    "            num_units = rng.choice([1,2,3]) #rng.poisson(lam=2) + 1 # need to add one to ensure at least 1 purchase\n",
    "            p_plain = p_plain_coffee[cust_id]\n",
    "            item = rng.choice(PlainCoffeeProducts) if rng.uniform() <  p_plain else rng.choice(SpecialtyCoffeeProducts)\n",
    "            result_coffee.append((date,cust_id,num_units,item))\n",
    "\n",
    "    for cust_id, p_customer_buys_merch in enumerate(p_merch):\n",
    "        purchased = int(rng.uniform() <= p_customer_buys_merch)\n",
    "        if purchased:\n",
    "            num_units = rng.choice([1,2,3])\n",
    "            item = rng.choice(Merch)\n",
    "            result_coffee.append((date,cust_id,num_units,item))\n",
    "    \n",
    "columns = [\"date\", \"cust_id\", \"num_units\", \"item\"]\n",
    "results = result_coffee + result_merch\n",
    "\n",
    "transaction_df = pd.DataFrame(results, columns=columns)\n",
    "transaction_df"
   ]
  },
  {
   "cell_type": "code",
   "execution_count": null,
   "metadata": {},
   "outputs": [],
   "source": [
    "# need to figure out how many units are purchased rng.choice([1,2,3])\n",
    "\n",
    "\n",
    "result_coffee, result_merch = [], []\n",
    "for date in transaction_dates:\n",
    "    for cust_id, p_customer_buys_coffee in enumerate(p_coffee):\n",
    "        purchased = int(rng.uniform() <= p_customer_buys_coffee)\n",
    "        if purchased:\n",
    "            num_units = rng.choice([1,2,3]) #rng.poisson(lam=2) + 1 # need to add one to ensure at least 1 purchase\n",
    "            p_plain = p_plain_coffee[cust_id]\n",
    "            item = rng.choice(PlainCoffeeProducts) if rng.uniform() <  p_plain else rng.choice(SpecialtyCoffeeProducts)\n",
    "            result_coffee.append((date,cust_id,num_units,item))\n",
    "\n",
    "    for cust_id, p_customer_buys_merch in enumerate(p_merch):\n",
    "        purchased = int(rng.uniform() <= p_customer_buys_merch)\n",
    "        if purchased:\n",
    "            num_units = rng.choice([1,2,3])\n",
    "            item = rng.choice(Merch)\n",
    "            result_coffee.append((date,cust_id,num_units,item))\n",
    "    \n",
    "columns = [\"date\", \"cust_id\", \"num_units\", \"item\"]\n",
    "results = result_coffee + result_merch\n",
    "\n",
    "transaction_df = pd.DataFrame(results, columns=columns)\n",
    "transaction_df"
   ]
  },
  {
   "cell_type": "code",
   "execution_count": null,
   "metadata": {},
   "outputs": [],
   "source": []
  },
  {
   "cell_type": "code",
   "execution_count": null,
   "metadata": {},
   "outputs": [],
   "source": []
  },
  {
   "cell_type": "code",
   "execution_count": null,
   "metadata": {},
   "outputs": [],
   "source": [
    "# need to get the unit price for each transaction\n",
    "# need to add the store\n",
    "\n",
    "\n",
    "result_coffee, result_merch = [], []\n",
    "for date in transaction_dates:\n",
    "    for cust_id, p_customer_buys_coffee in enumerate(p_coffee):\n",
    "        purchased = int(rng.uniform() <= p_customer_buys_coffee)\n",
    "        if purchased:\n",
    "            # store = df[\"stores\"][cust_id]\n",
    "            num_units = rng.choice([1,2,3]) #rng.poisson(lam=2) + 1 # need to add one to ensure at least 1 purchase\n",
    "            p_plain = p_plain_coffee[cust_id]\n",
    "            item = rng.choice(PlainCoffeeProducts) if rng.uniform() <  p_plain else rng.choice(SpecialtyCoffeeProducts)\n",
    "            result_coffee.append((date,cust_id,num_units,item))\n",
    "\n",
    "    for cust_id, p_customer_buys_merch in enumerate(p_merch):\n",
    "        purchased = int(rng.uniform() <= p_customer_buys_merch)\n",
    "        if purchased:\n",
    "            num_units = rng.choice([1,2,3])\n",
    "            item = rng.choice(Merch)\n",
    "            result_coffee.append((date,cust_id,num_units,item, store))\n",
    "    \n",
    "result_coffee, result_merch"
   ]
  },
  {
   "cell_type": "code",
   "execution_count": null,
   "metadata": {},
   "outputs": [],
   "source": []
  },
  {
   "cell_type": "code",
   "execution_count": null,
   "metadata": {},
   "outputs": [],
   "source": [
    "# generate transaction data using lifetimes"
   ]
  },
  {
   "cell_type": "code",
   "execution_count": null,
   "metadata": {},
   "outputs": [],
   "source": [
    "# assign 1-5 store numbers to each customer with probability distribution\n",
    "# assign gender, age, or 999 to each customer\n",
    "# assign regular or specialty coffee probability to each customer with probability distribution\n",
    "\n",
    "# assign probability of food purchase to each customer with each transaction they make\n",
    "# specialty purchasers buy more food than regular coffee people\n",
    "# assign probability of merch to each customer with each transaction they make\n",
    "\n",
    "#############################################333\n",
    "# FACTS\n",
    "# specialty purchasers buy more merch than regular coffee people\n",
    "# merch must be bought same day as food or drink\n",
    "\n",
    "# start with transaction date\n",
    "# customers either purchase or not on that date\n",
    "# customers who purchased in the past are either alive or dead on that date\n",
    "# pick some percentage of customer numbers from alive customers\n",
    "# pick store number (each customer number has 2,3, or 4 different store ids )\n",
    "# pick three stores from store list w/o replacement and save in defaultdict\n",
    "# store number is a defaultdict(list) where list is their potential store ids\n",
    "# pick season (Spring Summer Fall Winter)\n",
    "# pick DOW (Weekday Weekend)\n",
    "# pick date\n",
    "# plain or specialty coffee product (each customer prefers plain or specialty but can choose both)\n",
    "# product id\n",
    "# number of units 1,2,3 each customer usually buys 1 but can buy more [0.55, 0.35, 0.10]\n",
    "# drink size SML\n"
   ]
  },
  {
   "cell_type": "code",
   "execution_count": null,
   "metadata": {},
   "outputs": [],
   "source": [
    "'''\n",
    "for every drink\n",
    "for every size\n",
    "for every season\n",
    "there is a price\n",
    "\n",
    "price[drink][size][season]\n",
    "'''\n",
    "\n",
    "# df = pd.read_excel(\"prices.xlsx\", header=1)\n",
    "# print(df)\n",
    "# print(df.info())\n",
    "\n",
    "# use this as a separate test for unpacking dicts with enums\n",
    "# price = defaultdict(dict)\n",
    "# i = 0\n",
    "# for product in list(PlainCoffeeProducts):\n",
    "#     price[product] = defaultdict(dict)\n",
    "#     for size in list(DrinkSize):\n",
    "#         price[product][size] = defaultdict(dict)\n",
    "#         for season in list(Season):\n",
    "#             price[product][size][season] = i^2\n",
    "#             i = i + 1\n",
    "\n",
    "\n",
    "\n",
    "\n",
    "rng.choice(list(DrinkSize))"
   ]
  },
  {
   "cell_type": "code",
   "execution_count": null,
   "metadata": {},
   "outputs": [],
   "source": []
  }
 ],
 "metadata": {
  "kernelspec": {
   "display_name": "venv",
   "language": "python",
   "name": "python3"
  },
  "language_info": {
   "codemirror_mode": {
    "name": "ipython",
    "version": 3
   },
   "file_extension": ".py",
   "mimetype": "text/x-python",
   "name": "python",
   "nbconvert_exporter": "python",
   "pygments_lexer": "ipython3",
   "version": "3.10.12"
  },
  "orig_nbformat": 4
 },
 "nbformat": 4,
 "nbformat_minor": 2
}
